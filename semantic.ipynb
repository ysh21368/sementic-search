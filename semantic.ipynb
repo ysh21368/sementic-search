{
 "cells": [
  {
   "cell_type": "markdown",
   "metadata": {},
   "source": [
    "### * task 내용\n",
    "* 라이브러리, 임베딩 모델 설정 자유, 검색 응답 속도 0.5sec 미만\n",
    "* semantic 검색 자체의 의미, 라이브러리 선정 사유 및 동작 원리\n",
    "\n",
    "###### --------------------------------------------------------------------------------------------------------------------------------\n",
    "\n",
    "# semantic search\n",
    "* seantic search는 사용자 검색의도를 파악하고, 문서에 기술된 어휘의 의미 문맥을 분석하여, 사용자가 원하는 검색 결과를 제시하는 방법\n",
    "\n",
    "### 1. 라이브러리 선정 사유 및 모델 구조\n",
    "* sentence-bert 선정 사유는 bert의 임베딩의 성능을 우수하게 개선시킨 모델\n",
    "* BERT로 부터 문장 백터를 얻는 방법\n",
    "* - BERT의 [CLS] 토큰의 출력 벡터를 문장 벡터로 간주한다.\n",
    "* - BERT의 모든 단어의 출력 벡터에 대해서 평균 풀링을 수행한 벡터를 문장 벡터로 간주한다.\n",
    "\n",
    "* 특히 KorSTS 학습데이터로 학습하였기 때문에 다른 sbert에 비해 한국어에 특화되어 있다고 판단하였다.\n",
    "* KorSTS는 두 문장 사이의 유사도를 점수로 평가한 데이터셋이다. \n",
    "* 구조 a,b를 입력 받아서 768차원으로 백터로 변환하고, -> 평균풀링 레이어를 사용하여 특징을 추출하고, 그 두 문장의 백터의 유사도를 코사인 유사도로 변경 하여 계산\n",
    "\n",
    "###### --------------------------------------------------------------------------------------------------------------------------------\n",
    "\n",
    "* KorSTS dataset 예시\n",
    "\n",
    "* - main-captions |\tMSRvid | 2012test |\t0001 |\t5.000 |\t비행기가 이륙하고 있다.           |\t비행기가 이륙하고 있다.\n",
    "* - main-captions |\tMSRvid | 2012test |\t0004 |\t3.800 |\t한 남자가 큰 플루트를 연주하고 있다. |\t남자가 플루트를 연주하고 있다."
   ]
  },
  {
   "cell_type": "code",
   "execution_count": 1,
   "metadata": {},
   "outputs": [],
   "source": [
    "# 모델설치\n",
    "# !pip install ko-sentence-transformers"
   ]
  },
  {
   "cell_type": "markdown",
   "metadata": {},
   "source": [
    "* 데이터 불러오기\n",
    "* 약 40만개"
   ]
  },
  {
   "cell_type": "code",
   "execution_count": 3,
   "metadata": {},
   "outputs": [],
   "source": [
    "# 파일 불러오기 contents 딕셔너리에서 꺼낸값\n",
    "import pickle\n",
    "\n",
    "with open('/Users/seunghyun/anaconda3/envs/my_env/23.09.14/data.pkl', 'rb') as file:\n",
    "    data = pickle.load(file)\n",
    "\n",
    "#전처리\n",
    "import re\n",
    "# 기호와 기호안에 들어간 영어 제거\n",
    "data['contents'] = data['contents'].apply(lambda x: re.sub(r'[^가-힣\\s]', '', x))\n",
    "data['add_content'] = data['title_x'] + data['contents']"
   ]
  },
  {
   "cell_type": "code",
   "execution_count": 20,
   "metadata": {},
   "outputs": [
    {
     "data": {
      "text/plain": [
       "458339"
      ]
     },
     "execution_count": 20,
     "metadata": {},
     "output_type": "execute_result"
    }
   ],
   "source": [
    "len(data)"
   ]
  },
  {
   "cell_type": "code",
   "execution_count": 21,
   "metadata": {},
   "outputs": [],
   "source": [
    "sentences = data['add_content'].tolist()"
   ]
  },
  {
   "cell_type": "markdown",
   "metadata": {},
   "source": [
    "* https://huggingface.co/jhgan/ko-sroberta-multitask ko-sroberta-multitask 평가 84.77%\n",
    "* https://huggingface.co/jhgan/ko-sbert-sts ko-sbert-sts 평가 81.55%"
   ]
  },
  {
   "cell_type": "code",
   "execution_count": 44,
   "metadata": {},
   "outputs": [
    {
     "name": "stderr",
     "output_type": "stream",
     "text": [
      "Downloading (…)f4419/.gitattributes: 100%|██████████| 1.18k/1.18k [00:00<00:00, 564kB/s]\n",
      "Downloading (…)_Pooling/config.json: 100%|██████████| 190/190 [00:00<00:00, 63.9kB/s]\n",
      "Downloading (…)9cf1bf4419/README.md: 100%|██████████| 4.86k/4.86k [00:00<00:00, 4.40MB/s]\n",
      "Downloading (…)f1bf4419/config.json: 100%|██████████| 744/744 [00:00<00:00, 385kB/s]\n",
      "Downloading (…)ce_transformers.json: 100%|██████████| 123/123 [00:00<00:00, 44.4kB/s]\n",
      "Downloading (…)_sts-dev_results.csv: 100%|██████████| 931/931 [00:00<00:00, 833kB/s]\n",
      "Downloading pytorch_model.bin: 100%|██████████| 443M/443M [07:32<00:00, 977kB/s]  \n",
      "Downloading (…)nce_bert_config.json: 100%|██████████| 53.0/53.0 [00:00<00:00, 24.1kB/s]\n",
      "Downloading (…)sts-test_results.csv: 100%|██████████| 302/302 [00:00<00:00, 149kB/s]\n",
      "Downloading (…)cial_tokens_map.json: 100%|██████████| 156/156 [00:00<00:00, 58.5kB/s]\n",
      "Downloading (…)f4419/tokenizer.json: 100%|██████████| 495k/495k [00:00<00:00, 936kB/s]\n",
      "Downloading (…)okenizer_config.json: 100%|██████████| 585/585 [00:00<00:00, 642kB/s]\n",
      "Downloading (…)9cf1bf4419/vocab.txt: 100%|██████████| 248k/248k [00:00<00:00, 471kB/s]\n",
      "Downloading (…)1bf4419/modules.json: 100%|██████████| 229/229 [00:00<00:00, 133kB/s]\n"
     ]
    },
    {
     "name": "stdout",
     "output_type": "stream",
     "text": [
      "임베딩 시간 2.4454372345076667 시간\n"
     ]
    }
   ],
   "source": [
    "from sentence_transformers import SentenceTransformer, util\n",
    "import numpy as np\n",
    "import time\n",
    "\n",
    "embedder = SentenceTransformer(\"jhgan/ko-sroberta-multitask\")\n",
    "\n",
    "embedding_start = time.time()\n",
    "# 문장을 tensor 형태로 변환\n",
    "corpus_embeddings = embedder.encode(sentences, convert_to_tensor=True)\n",
    "embedding_end = time.time()\n",
    "embedding_time = embedding_end - embedding_start\n",
    "print(f\"임베딩 시간 {embedding_time/60/60} 시간\")      "
   ]
  },
  {
   "cell_type": "code",
   "execution_count": 45,
   "metadata": {},
   "outputs": [],
   "source": [
    "# 임베딩 값 저장\n",
    "with open('/Users/seunghyun/anaconda3/envs/my_env/23.09.14/semantic_search_embedding_sroberta.pkl', 'wb') as f:\n",
    "     pickle.dump(corpus_embeddings, f)"
   ]
  },
  {
   "cell_type": "code",
   "execution_count": 10,
   "metadata": {},
   "outputs": [
    {
     "name": "stdout",
     "output_type": "stream",
     "text": [
      "\n",
      "\n",
      "======================\n",
      "\n",
      "\n",
      "검색어:  제가 음식을 심키는데 다른?구멍으로 넘어간것같은 느낌이 나고 이물감 약간 느껴지는거 빼곤 별다른 건 없는데 괜찮은거죠??\n",
      "검색결과 10개 출력\n",
      "\n",
      "\n",
      "======================\n",
      "\n",
      "\n",
      "1번쨰 : 음식먹을때 가끔시큰거리는 현상왼쪽 정확히 어딘지는 모르겠으나 어금니쪽에 김치등 질긴 음식을 먹을때만 가끔 시큰거리는 느낌이 있는데 오히려 딱딱한 음식먹을때는 괜찮습니다 (Score: 0.7464)\n",
      "2번쨰 : 배달음식을 먹는도중에 이물질이?배달음식제육뽁음을 먹는도중에 무언가가발견되었는데 세상에나첨엔 무언가 싶었는데자세히 보니 임플란트 였네요 저는 임플란트를 하지않아 제건 아닌게 분명하고식당사장님께 사진 보내드리고 말씀드렸는데사장님도 황당해 하셨어요 왜냐면 그 식당이관리가 철저하거든요   더군다나 머리카락이나다른이물질이라면 이해가 가겠지만 저도 많이당황스럽네요  배탈이 난것도 아니고 직접 씹은것도아니라 이상은  없지만 상당히 불쾌하고 기분이좋지 않습니다  그냥 넘어가자니 그건 아닌것 같고어떻게 해야 할까요 전문가님들의 고견을 듣고싶습니다 (Score: 0.7226)\n",
      "3번쨰 : 상한음식 조금 먹었는데 괜찮을까요??상한음식 모르고 한숟갈 먹었는데요 분 지났어요 아직까지 아무 렇지는 않은데조금 정도는 상관없을까요 괜히 걱정되네요 (Score: 0.7091)\n",
      "4번쨰 : 기도에 작음 음식물이 넘어간 것 같습니다.햄을 잘게 잘라먹다 후두 쪽으로 음식물이 넘어간 것 같습니다보통 음식물이 넘어가면 사례가 나오긴 하는데 최근들에 물을 잘못 삼킨 적도 많지만저는 음식을 잘못 삼켜도 기침이 잘 나오질 않더라구요 아주 얕게 기침이 나오는 정도고 그 이후론 잠잠합니다삼킨 기분 탓 인것 치고는 기도와 후두 부근에서 이물감이 너무나도 선명하게 들고삼킨 이후부터 목 통증과 가슴 호흡이 묘하게 답답하기까지 합니다하임리이법이라도 시행하면 괜찮아 질까요 (Score: 0.7000)\n",
      "5번쨰 : 임플란트 시술후 음식을 먹을때어금니 임플란트 시술후 음식을 먹을때 두꺼운 종이를 씹는듯한 느낌입니다 임플란트를 한 아금니 아래 위 사이에 종이비닐이 있는듯하여 씹는 느낌이 않좋아요 원래 내것이 아니라 그런건가요 저만 느끼는 건거요시간이 지나면 괜찮아 질까요또 음식물이 많이 끼는 이유는 뭘까요 (Score: 0.6985)\n",
      "6번쨰 : 어금니 사이에 검은색 실선이 생겼던데 가끔 뭐 먹을 때 찌릿한 느낌과 연관이 있나요?차고 뜨거운 건 상관없고 평소엔 멀쩡하다가 가끔 뭔가를 씹을 때 찌릿하는 느낌과 미약한 통증이 느껴져 씹다가 초 쉬거나 통증이 느껴진 부분 반대편으로 음식물을 넘겨 씹게 되는 경험을 하고 있습니다신경이 노출된것이 아니라면 상 충치도 아니라고 하는데 어떤걸까요 (Score: 0.6973)\n",
      "7번쨰 : 음식을 씹을때 통증 문의 드립니다.평소에는 생활할때 아무 이상이 없는데음식물을 씹을때 통증이 있는데 왜 그런거죠시린통증이 아니라 압통같이 오는데치아에 이상이 있는건지 궁금합니다 (Score: 0.6971)\n",
      "8번쨰 : 그릭요거트 포장 부분이 부풀어 올라 있는데 먹어도 되나요?? 그릭요거트를 먹으려고 하는데 개봉 전 포장 부분이 좀 부풀어 있더라고요 유통기한다 일정도 남았는데 개봉 했는데 푸후 하면서 바람이 빠지고 내용물은 특별하게 냄새는 나지 않는데 하얀색에 살짝 노란빛이 도는 느낌 한입 먹었는데 이게 원래 살짝 시큼한 요거트라길래 상해서 시큼한건지 구분이 안가더라고요 이렇게 개봉 전 부풀어 있으면 먹으면 안되는건가요 (Score: 0.6919)\n",
      "9번쨰 : 혓바닥에서 계속 신맛이 느껴지는데 병원 가봐야 할까요?얼마전에 감기에 걸려서 약을 지어 먹었는데요먹는 도중에 알약 하나를 삼키지 못하고 하나가 혓바닥에 닿아서  맛을 느끼고 먹었는데 그때 맛이 약간 신맛 비슷한 맛이었는데 그후로부터 그 맛이 사라지지 않고 계속 입안에 남아있는 느낌이 듭니다 불편하거나 아프지는 않는데 조금 신경쓰이는 정도입니다 음식맛도 다 느껴지고 혓바닥에 뭐 상처나 그런건 없는거 같은데물도 먹고 이빨도 닦고 혓바닥도 닦고하는데 맛이사라지지 않네요 일정도 계속 그러는데 병원 가봐서 진찰 받는게 나은가요시간 지나면 괜찮아 질까요 병원간다면 이비후인과로 가는게 맞나요 아니면 어디로 가야하나요 (Score: 0.6887)\n",
      "10번쨰 : 역류성식도염때문인지 목밑에 이물감이?며칠전 낮에 비빔면두개를 만들어먹은뒤부터목밑에 쇄골만나는 움푹들어간자리쯤에뭔가 걸린듯한  이물감이 계속느껴집니다마치 작은사탕같은게 걸린듯한  느낌이랄까신물이나거나  소화가  안되거나하지는 않은데그냥 좀불편하네요우연인지는몰라도  그뒤로 몸이 간지럽다가그저께  낮에  회를먹으며 소주마신뒤온몸에 발진이 일어나  어젠 응급실가서링거도맞았네요  온몸에 간지러운정도가 너무심해일을못할정도였읍니다그후론 아직은  두드러기나 발진  가려움증은없읍니다공복에는 목밑안에 이물감이 적은데식사만하면 다시  이물감이 느껴지네요이전부터 역류성식도염이 있다는 소견은  들었으나아무문제가 없어서  신경안쓰고살았는데단순히  소화분량에  문제인지 역류성식도염 의원인인지도 궁금합니다 고수분들의 고견을 기다리겠읍니다 감사합니다 (Score: 0.6846)\n",
      " \n",
      "검색 시간: 0.1946 초\n"
     ]
    }
   ],
   "source": [
    "# sroberta\n",
    "from sentence_transformers import SentenceTransformer, util\n",
    "import pickle\n",
    "import numpy as np\n",
    "# 파일 불러오기 contents 딕셔너리에서 꺼낸값\n",
    "\n",
    "with open('/Users/seunghyun/anaconda3/envs/my_env/23.09.14/data.pkl', 'rb') as file:\n",
    "    data = pickle.load(file)\n",
    "\n",
    "#전처리\n",
    "import re\n",
    "# 기호와 기호안에 들어간 영어 제거\n",
    "data['contents'] = data['contents'].apply(lambda x: re.sub(r'[^가-힣\\s]', '', x))\n",
    "data['add_content'] = data['title_x'] + data['contents']\n",
    "\n",
    "# 임베딩 값 불러오기\n",
    "with open(\"/Users/seunghyun/anaconda3/envs/my_env/23.09.14/semantic_search_embedding_sroberta.pkl\", 'rb') as f:\n",
    "     corpus_embeddings = pickle.load(f)\n",
    "# 문장 불러오기\n",
    "sentences = data['add_content'].tolist()\n",
    "# 검색\n",
    "import time\n",
    "queries = input('검색 하실 내용을 입력하시오 : ')\n",
    "queries = [queries]\n",
    "embedder = SentenceTransformer(\"jhgan/ko-sroberta-multitask\")\n",
    "\n",
    "# 5개만 출력\n",
    "top_k = 10\n",
    "\n",
    "for query in queries:\n",
    "    query_embedding = embedder.encode(query, convert_to_tensor=True)\n",
    "    \n",
    "    start_time = time.time()\n",
    "    # input 문장과, 말뭉치 embedding값을 코사인 유사도로 비교\n",
    "    cos_scores = util.pytorch_cos_sim(query_embedding, corpus_embeddings)[0]\n",
    "    cos_scores = cos_scores.cpu()\n",
    "\n",
    "    #We use np.argpartition, to only partially sort the top_k results\n",
    "    # 순위를 순서대로 맞추기 위함\n",
    "    # np.argpartition는 큰값 5개를 뽑아 오른쪽으로 넣는 함수\n",
    "    top_results = np.argpartition(-cos_scores, range(top_k))[0:top_k] \n",
    "    \n",
    "    end_time = time.time()\n",
    "\n",
    "    print(\"\\n\\n======================\\n\\n\")\n",
    "    print(\"검색어: \", query)\n",
    "    print(f\"검색결과 {top_k}개 출력\")\n",
    "    print(\"\\n\\n======================\\n\\n\")\n",
    "    # score가 높은 top5개를 뽑고 score도 부여한다.\n",
    "    for index, idx in enumerate(top_results[0:top_k]):\n",
    "        print(f\"{index+1}번쨰 :\",sentences[idx].strip(), \"(Score: %.4f)\" % (cos_scores[idx]))\n",
    "        \n",
    "    print(\" \")\n",
    "    search_time = end_time - start_time\n",
    "    print(f\"검색 시간: {search_time:.4f} 초\")"
   ]
  },
  {
   "cell_type": "code",
   "execution_count": null,
   "metadata": {},
   "outputs": [],
   "source": []
  }
 ],
 "metadata": {
  "kernelspec": {
   "display_name": "myenv",
   "language": "python",
   "name": "python3"
  },
  "language_info": {
   "codemirror_mode": {
    "name": "ipython",
    "version": 3
   },
   "file_extension": ".py",
   "mimetype": "text/x-python",
   "name": "python",
   "nbconvert_exporter": "python",
   "pygments_lexer": "ipython3",
   "version": "3.8.18"
  },
  "orig_nbformat": 4
 },
 "nbformat": 4,
 "nbformat_minor": 2
}
